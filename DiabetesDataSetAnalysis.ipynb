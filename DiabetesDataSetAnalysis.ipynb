{
 "cells": [
  {
   "cell_type": "code",
   "execution_count": 1,
   "metadata": {},
   "outputs": [],
   "source": [
    "from sklearn import datasets\n",
    "import time\n",
    "from sklearn.datasets import load_diabetes   \n",
    "# [i for i in dir(datasets) if 'load' in i] # offline datasets provided by SCI-kit learn\n"
   ]
  },
  {
   "cell_type": "code",
   "execution_count": 2,
   "metadata": {},
   "outputs": [
    {
     "data": {
      "text/plain": [
       "['DESCR', 'data', 'feature_names', 'target']"
      ]
     },
     "execution_count": 2,
     "metadata": {},
     "output_type": "execute_result"
    }
   ],
   "source": [
    "diabetes = load_diabetes()\n",
    "dir(diabetes)   # For exploring variables"
   ]
  },
  {
   "cell_type": "code",
   "execution_count": 3,
   "metadata": {},
   "outputs": [
    {
     "name": "stdout",
     "output_type": "stream",
     "text": [
      "['age', 'sex', 'bmi', 'bp', 's1', 's2', 's3', 's4', 's5', 's6']\n"
     ]
    }
   ],
   "source": [
    "\n",
    "print(diabetes.feature_names)    # feature of having diabetes\n",
    "\n",
    "diabetes.target    # label of diabetes\n",
    "\n",
    "# actual data with attributes\n",
    "features = diabetes.data\n",
    "# features.shape\n",
    "# type(features)\n",
    "label=diabetes.target  \n",
    "#label.shape\n",
    "#diabetes.DESCR"
   ]
  },
  {
   "cell_type": "code",
   "execution_count": 9,
   "metadata": {},
   "outputs": [
    {
     "data": {
      "text/plain": [
       "<matplotlib.legend.Legend at 0x1d85da92e10>"
      ]
     },
     "execution_count": 9,
     "metadata": {},
     "output_type": "execute_result"
    },
    {
     "data": {
      "image/png": "[encoded data removed]",
      "text/plain": [
       "<Figure size 432x288 with 1 Axes>"
      ]
     },
     "metadata": {},
     "output_type": "display_data"
    }
   ],
   "source": [
    "import matplotlib.pyplot as plt\n",
    "\n",
    "Age=features[0:,0]\n",
    "BloodPressure=features[0:,3]\n",
    "plt.xlabel(\"Age of Patient\")\n",
    "plt.ylabel(\"Blood Pressure\")\n",
    "plt .scatter(Age,BloodPressure, label=\"diabetes_data\",marker='^')\n",
    "plt.legend()"
   ]
  },
  {
   "cell_type": "code",
   "execution_count": 10,
   "metadata": {},
   "outputs": [
    {
     "name": "stdout",
     "output_type": "stream",
     "text": [
      "[ 53.  58.  81.  65. 111. 161. 310. 109. 131.  69.  91. 215.  71. 167.]\n",
      "[ 72. 173.  63.  93. 128. 208. 197.  71.  66. 144.  97. 258. 199. 110.]\n"
     ]
    }
   ],
   "source": [
    "from sklearn.model_selection import train_test_split\n",
    "from sklearn.tree import DecisionTreeClassifier\n",
    "\n",
    "train_data,test_data,label_train,label_test=train_test_split(features,label,test_size=0.03)\n",
    "# we have to give both ques and ans to model, test size=0.1 means separate 10% data i.e don't use that for training [random_state=0]\n",
    "'''1- actualData 90%\n",
    "   2- actual 10%\n",
    "   3- ans 90%\n",
    "   4- ans 10% '''\n",
    "\n",
    "# calling decision tree classifier\n",
    "\n",
    "clf = DecisionTreeClassifier()\n",
    "trained = clf.fit(train_data,label_train)\n",
    "predicted = trained.predict(test_data)\n",
    "print(predicted) #predicted ans\n",
    "print(label_test)   #actual ans\n",
    "\n"
   ]
  },
  {
   "cell_type": "code",
   "execution_count": 11,
   "metadata": {},
   "outputs": [
    {
     "data": {
      "text/plain": [
       "0.0"
      ]
     },
     "execution_count": 11,
     "metadata": {},
     "output_type": "execute_result"
    }
   ],
   "source": [
    "# to find acurracy score\n",
    "from sklearn.metrics import accuracy_score\n",
    "accuracy_score(label_test,predicted)   # range of accuracy score 0-1"
   ]
  },
  {
   "cell_type": "code",
   "execution_count": null,
   "metadata": {},
   "outputs": [],
   "source": []
  }
 ],
 "metadata": {
  "kernelspec": {
   "display_name": "Python 3",
   "language": "python",
   "name": "python3"
  },
  "language_info": {
   "codemirror_mode": {
    "name": "ipython",
    "version": 3
   },
   "file_extension": ".py",
   "mimetype": "text/x-python",
   "name": "python",
   "nbconvert_exporter": "python",
   "pygments_lexer": "ipython3",
   "version": "3.6.5"
  }
 },
 "nbformat": 4,
 "nbformat_minor": 2
}
