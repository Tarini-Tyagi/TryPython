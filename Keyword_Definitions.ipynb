{
  "nbformat": 4,
  "nbformat_minor": 0,
  "metadata": {
    "colab": {
      "name": "Keyword-Definitions.ipynb",
      "version": "0.3.2",
      "provenance": [],
      "collapsed_sections": []
    },
    "kernelspec": {
      "name": "python3",
      "display_name": "Python 3"
    }
  },
  "cells": [
    {
      "cell_type": "code",
      "metadata": {
        "id": "nsAWvAuhhPLf",
        "colab_type": "code",
        "colab": {
          "base_uri": "https://localhost:8080/",
          "height": 72
        },
        "outputId": "fdab4dc9-4457-48c9-9b64-3796f64a7a8d"
      },
      "source": [
        "\n",
        "import nltk\n",
        "from nltk.corpus import wordnet\n",
        "nltk.download('wordnet')"
      ],
      "execution_count": 9,
      "outputs": [
        {
          "output_type": "stream",
          "text": [
            "[nltk_data] Downloading package wordnet to /root/nltk_data...\n",
            "[nltk_data]   Package wordnet is already up-to-date!\n"
          ],
          "name": "stdout"
        },
        {
          "output_type": "execute_result",
          "data": {
            "text/plain": [
              "True"
            ]
          },
          "metadata": {
            "tags": []
          },
          "execution_count": 9
        }
      ]
    },
    {
      "cell_type": "code",
      "metadata": {
        "id": "gXtKifyyhVlR",
        "colab_type": "code",
        "colab": {}
      },
      "source": [
        "ws=wordnet.synsets('work')"
      ],
      "execution_count": 0,
      "outputs": []
    },
    {
      "cell_type": "code",
      "metadata": {
        "id": "OuUHESNxhdad",
        "colab_type": "code",
        "colab": {
          "base_uri": "https://localhost:8080/",
          "height": 35
        },
        "outputId": "503da901-085c-43bf-874b-e088e16be29c"
      },
      "source": [
        "len(ws)"
      ],
      "execution_count": 12,
      "outputs": [
        {
          "output_type": "execute_result",
          "data": {
            "text/plain": [
              "34"
            ]
          },
          "metadata": {
            "tags": []
          },
          "execution_count": 12
        }
      ]
    },
    {
      "cell_type": "code",
      "metadata": {
        "id": "IqlaFi2oinmx",
        "colab_type": "code",
        "colab": {
          "base_uri": "https://localhost:8080/",
          "height": 35
        },
        "outputId": "8ca4f97d-0dc1-4cd0-c0d4-1aa88da68f85"
      },
      "source": [
        "ws[0].definition()"
      ],
      "execution_count": 14,
      "outputs": [
        {
          "output_type": "execute_result",
          "data": {
            "text/plain": [
              "'activity directed toward making or doing something'"
            ]
          },
          "metadata": {
            "tags": []
          },
          "execution_count": 14
        }
      ]
    },
    {
      "cell_type": "code",
      "metadata": {
        "id": "be3ArX5Air-6",
        "colab_type": "code",
        "colab": {
          "base_uri": "https://localhost:8080/",
          "height": 35
        },
        "outputId": "4f7ff380-06c9-4990-d504-bbbe3bfff2e7"
      },
      "source": [
        "ws[1].definition()"
      ],
      "execution_count": 15,
      "outputs": [
        {
          "output_type": "execute_result",
          "data": {
            "text/plain": [
              "'a product produced or accomplished through the effort or activity or agency of a person or thing'"
            ]
          },
          "metadata": {
            "tags": []
          },
          "execution_count": 15
        }
      ]
    },
    {
      "cell_type": "code",
      "metadata": {
        "id": "XUPNr7vwi5He",
        "colab_type": "code",
        "colab": {
          "base_uri": "https://localhost:8080/",
          "height": 35
        },
        "outputId": "7274d69b-f345-438d-bd60-be32c9c66165"
      },
      "source": [
        "ws[0].examples\n",
        "ws[1].examples"
      ],
      "execution_count": 16,
      "outputs": [
        {
          "output_type": "execute_result",
          "data": {
            "text/plain": [
              "<bound method Synset.examples of Synset('work.n.02')>"
            ]
          },
          "metadata": {
            "tags": []
          },
          "execution_count": 16
        }
      ]
    },
    {
      "cell_type": "code",
      "metadata": {
        "id": "HsYUA3lZi-eX",
        "colab_type": "code",
        "colab": {
          "base_uri": "https://localhost:8080/",
          "height": 335
        },
        "outputId": "bc85818d-1099-4f0d-e561-c4154033d3f6"
      },
      "source": [
        "import time\n",
        "# Exploring all the book\n",
        "msg=input(\"Enter the keyword you you want to know about\")\n",
        "for i in wordnet.synsets(msg):\n",
        "  print(\"------------------\")\n",
        "  print(i.definition())\n",
        "  time.sleep(10)"
      ],
      "execution_count": 19,
      "outputs": [
        {
          "output_type": "stream",
          "text": [
            "Enter the keyword you you want to know aboutAttitude\n",
            "------------------\n",
            "a complex mental state involving beliefs and feelings and values and dispositions to act in certain ways\n",
            "------------------\n",
            "the arrangement of the body and its limbs\n",
            "------------------\n",
            "a theatrical pose created for effect\n"
          ],
          "name": "stdout"
        },
        {
          "output_type": "error",
          "ename": "KeyboardInterrupt",
          "evalue": "ignored",
          "traceback": [
            "\u001b[0;31m---------------------------------------------------------------------------\u001b[0m",
            "\u001b[0;31mKeyboardInterrupt\u001b[0m                         Traceback (most recent call last)",
            "\u001b[0;32m<ipython-input-19-263617cb482f>\u001b[0m in \u001b[0;36m<module>\u001b[0;34m()\u001b[0m\n\u001b[1;32m      5\u001b[0m   \u001b[0mprint\u001b[0m\u001b[0;34m(\u001b[0m\u001b[0;34m\"------------------\"\u001b[0m\u001b[0;34m)\u001b[0m\u001b[0;34m\u001b[0m\u001b[0;34m\u001b[0m\u001b[0m\n\u001b[1;32m      6\u001b[0m   \u001b[0mprint\u001b[0m\u001b[0;34m(\u001b[0m\u001b[0mi\u001b[0m\u001b[0;34m.\u001b[0m\u001b[0mdefinition\u001b[0m\u001b[0;34m(\u001b[0m\u001b[0;34m)\u001b[0m\u001b[0;34m)\u001b[0m\u001b[0;34m\u001b[0m\u001b[0;34m\u001b[0m\u001b[0m\n\u001b[0;32m----> 7\u001b[0;31m   \u001b[0mtime\u001b[0m\u001b[0;34m.\u001b[0m\u001b[0msleep\u001b[0m\u001b[0;34m(\u001b[0m\u001b[0;36m10\u001b[0m\u001b[0;34m)\u001b[0m\u001b[0;34m\u001b[0m\u001b[0;34m\u001b[0m\u001b[0m\n\u001b[0m",
            "\u001b[0;31mKeyboardInterrupt\u001b[0m: "
          ]
        }
      ]
    },
    {
      "cell_type": "markdown",
      "metadata": {
        "id": "i4ISMaeoj8wN",
        "colab_type": "text"
      },
      "source": [
        "NLP Task to do:\n",
        "\n",
        "Collect all general keyword\n",
        "\n",
        "Chatbot :---  Google's Dailogflow ---simplest program to make chatbot (1 Day):\n",
        "integration with google assistent, alexa\n",
        "\n",
        "Rasa -- other option --- it is programable\n",
        "\n",
        "IBM Watson to make chatbot\n",
        "\n",
        "MicroBot  \n",
        "\n",
        "Chatbot:  Multiple ques , limited answer\n",
        "\n",
        "Make a chatbot and integrate it with bot---- facebook developers will check and then improve\n",
        "\n",
        "1) Sentiment Analysis 2) Summerization\n",
        "\n",
        "For sentiment analysis\n",
        "\n",
        "Data -----> Tokenize -----> remove stopword ----> Find out lemma of remaining keywords ----> Find Polarity ---->\n",
        "\n",
        "\n",
        "In replacement to all this we can use a library : Textblob\n",
        "\n",
        "\n",
        "Stanford created the polarity for words ranging [-1 to 1 including 0]\n",
        "\n",
        "-1------------------------------0---------------------------------1\n",
        "\n",
        "Negative...............Neutral........................Positive\n",
        "\n",
        "\n",
        "Facebook, Twitter, Instagram, Stakoverflow  \n",
        "...............................................................................................................................................\n",
        "\n",
        "API:\n",
        "\n",
        "Linkedin.................................Twitter.........................facebook........................Instagram\n",
        "\n",
        "Infrastructure cloud engineer and Security analyst  [Developer just Code]  \n",
        "\n",
        "Copy\n",
        "\n",
        "\n",
        "\n"
      ]
    },
    {
      "cell_type": "code",
      "metadata": {
        "id": "tmK1GE55jmIA",
        "colab_type": "code",
        "colab": {}
      },
      "source": [
        ""
      ],
      "execution_count": 0,
      "outputs": []
    }
  ]
}