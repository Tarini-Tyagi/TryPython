{
  "nbformat": 4,
  "nbformat_minor": 0,
  "metadata": {
    "colab": {
      "name": "NumpyTrial.ipynb",
      "version": "0.3.2",
      "provenance": [],
      "collapsed_sections": []
    },
    "kernelspec": {
      "name": "python3",
      "display_name": "Python 3"
    }
  },
  "cells": [
    {
      "cell_type": "code",
      "metadata": {
        "id": "40dH0rP5BpiD",
        "colab_type": "code",
        "colab": {}
      },
      "source": [
        "import numpy as np\n"
      ],
      "execution_count": 0,
      "outputs": []
    },
    {
      "cell_type": "code",
      "metadata": {
        "id": "OKYhpR6dBt7h",
        "colab_type": "code",
        "colab": {}
      },
      "source": [
        "a=np.array([3,3,4,5,6,7,8])"
      ],
      "execution_count": 0,
      "outputs": []
    },
    {
      "cell_type": "code",
      "metadata": {
        "id": "nGfhT-ORC667",
        "colab_type": "code",
        "outputId": "b4e1ebd7-b12f-4fb7-f3d8-4904026682b2",
        "colab": {
          "base_uri": "https://localhost:8080/",
          "height": 34
        }
      },
      "source": [
        "type(a)"
      ],
      "execution_count": 0,
      "outputs": [
        {
          "output_type": "execute_result",
          "data": {
            "text/plain": [
              "numpy.ndarray"
            ]
          },
          "metadata": {
            "tags": []
          },
          "execution_count": 4
        }
      ]
    },
    {
      "cell_type": "code",
      "metadata": {
        "id": "ASRPdVn6DEjh",
        "colab_type": "code",
        "colab": {}
      },
      "source": [
        "b=np.array([1,2,3,4,5,4,5])"
      ],
      "execution_count": 0,
      "outputs": []
    },
    {
      "cell_type": "code",
      "metadata": {
        "id": "Xto9ckX0Dn7p",
        "colab_type": "code",
        "outputId": "b2e923b9-6a11-447f-c10b-f7fbb12f47bf",
        "colab": {
          "base_uri": "https://localhost:8080/",
          "height": 34
        }
      },
      "source": [
        "b"
      ],
      "execution_count": 0,
      "outputs": [
        {
          "output_type": "execute_result",
          "data": {
            "text/plain": [
              "array([1, 2, 3, 4, 5, 4, 5])"
            ]
          },
          "metadata": {
            "tags": []
          },
          "execution_count": 9
        }
      ]
    },
    {
      "cell_type": "code",
      "metadata": {
        "id": "zHsy5cXjDogf",
        "colab_type": "code",
        "outputId": "5d89015c-0c45-4b4d-b9e8-9c581e32d77e",
        "colab": {
          "base_uri": "https://localhost:8080/",
          "height": 34
        }
      },
      "source": [
        "a+b"
      ],
      "execution_count": 0,
      "outputs": [
        {
          "output_type": "execute_result",
          "data": {
            "text/plain": [
              "array([ 4,  5,  7,  9, 11, 11, 13])"
            ]
          },
          "metadata": {
            "tags": []
          },
          "execution_count": 10
        }
      ]
    },
    {
      "cell_type": "code",
      "metadata": {
        "id": "ft8li4GODqno",
        "colab_type": "code",
        "outputId": "efd83454-b841-4759-c396-9051323cf9b9",
        "colab": {
          "base_uri": "https://localhost:8080/",
          "height": 34
        }
      },
      "source": [
        "a*2"
      ],
      "execution_count": 0,
      "outputs": [
        {
          "output_type": "execute_result",
          "data": {
            "text/plain": [
              "array([ 6,  6,  8, 10, 12, 14, 16])"
            ]
          },
          "metadata": {
            "tags": []
          },
          "execution_count": 11
        }
      ]
    },
    {
      "cell_type": "code",
      "metadata": {
        "id": "jNIpsmlpD6Q2",
        "colab_type": "code",
        "outputId": "4883e7f2-52b7-4283-e4ba-06fa93b22dcf",
        "colab": {
          "base_uri": "https://localhost:8080/",
          "height": 34
        }
      },
      "source": [
        "a**2"
      ],
      "execution_count": 0,
      "outputs": [
        {
          "output_type": "execute_result",
          "data": {
            "text/plain": [
              "array([ 9,  9, 16, 25, 36, 49, 64])"
            ]
          },
          "metadata": {
            "tags": []
          },
          "execution_count": 12
        }
      ]
    },
    {
      "cell_type": "code",
      "metadata": {
        "id": "8w65BFYRD84m",
        "colab_type": "code",
        "colab": {}
      },
      "source": [
        "c=a[3]+b[2]"
      ],
      "execution_count": 0,
      "outputs": []
    },
    {
      "cell_type": "code",
      "metadata": {
        "id": "h-enVpunEi9t",
        "colab_type": "code",
        "outputId": "9ead8e3d-c980-4be7-8488-108688ee8b36",
        "colab": {
          "base_uri": "https://localhost:8080/",
          "height": 34
        }
      },
      "source": [
        "c"
      ],
      "execution_count": 0,
      "outputs": [
        {
          "output_type": "execute_result",
          "data": {
            "text/plain": [
              "8"
            ]
          },
          "metadata": {
            "tags": []
          },
          "execution_count": 14
        }
      ]
    },
    {
      "cell_type": "code",
      "metadata": {
        "id": "LkWlM0FLEjnm",
        "colab_type": "code",
        "colab": {}
      },
      "source": [
        "# Double dimensional array\n",
        "d = np.array([[1,2,3],[4,5,6]])   # 2x3 matrix 2 row 3 col\n"
      ],
      "execution_count": 0,
      "outputs": []
    },
    {
      "cell_type": "code",
      "metadata": {
        "id": "-XVqcc39FqyV",
        "colab_type": "code",
        "outputId": "23e397e0-6d3b-4bba-b89f-55798056170f",
        "colab": {
          "base_uri": "https://localhost:8080/",
          "height": 68
        }
      },
      "source": [
        "d\n",
        "df=d.reshape(3,2)   # Reshape to convert 2x3 to 3x2\n",
        "df"
      ],
      "execution_count": 52,
      "outputs": [
        {
          "output_type": "execute_result",
          "data": {
            "text/plain": [
              "array([[1, 2],\n",
              "       [3, 4],\n",
              "       [5, 6]])"
            ]
          },
          "metadata": {
            "tags": []
          },
          "execution_count": 52
        }
      ]
    },
    {
      "cell_type": "code",
      "metadata": {
        "id": "WN_5JBGGFrfk",
        "colab_type": "code",
        "colab": {}
      },
      "source": [
        "y=d+5"
      ],
      "execution_count": 0,
      "outputs": []
    },
    {
      "cell_type": "code",
      "metadata": {
        "id": "0qLs3KMdG0OE",
        "colab_type": "code",
        "outputId": "ae693953-af54-4686-d143-7cade0a9e994",
        "colab": {
          "base_uri": "https://localhost:8080/",
          "height": 51
        }
      },
      "source": [
        "cube = d**3\n",
        "cube"
      ],
      "execution_count": 0,
      "outputs": [
        {
          "output_type": "execute_result",
          "data": {
            "text/plain": [
              "array([[  1,   8,  27],\n",
              "       [ 64, 125, 216]])"
            ]
          },
          "metadata": {
            "tags": []
          },
          "execution_count": 21
        }
      ]
    },
    {
      "cell_type": "code",
      "metadata": {
        "id": "fO5fw6m0HB8p",
        "colab_type": "code",
        "outputId": "9525223d-403e-43dd-bc68-409f50403ff2",
        "colab": {
          "base_uri": "https://localhost:8080/",
          "height": 85
        }
      },
      "source": [
        "z = np.array([[2,7],[3,8],[2,9],[9,4] ])\n",
        "z.shape\n",
        "z\n"
      ],
      "execution_count": 0,
      "outputs": [
        {
          "output_type": "execute_result",
          "data": {
            "text/plain": [
              "array([[2, 7],\n",
              "       [3, 8],\n",
              "       [2, 9],\n",
              "       [9, 4]])"
            ]
          },
          "metadata": {
            "tags": []
          },
          "execution_count": 24
        }
      ]
    },
    {
      "cell_type": "code",
      "metadata": {
        "id": "fe5DYWihHoDb",
        "colab_type": "code",
        "colab": {
          "base_uri": "https://localhost:8080/",
          "height": 85
        },
        "outputId": "bc0bd284-cec6-43c9-cbd0-06cb642239f8"
      },
      "source": [
        "# x[row range, column range]\n",
        "\n",
        "z[0:2]   # 3rd row will be excluded\n",
        "z[0:]    # All rows\n",
        "z[0:,0]\n",
        "z[0:2,0]\n",
        "d[0:,0:2]\n",
        "# skiping the column order\n",
        "d[0:,[0,2]]   # only col 0 and 2 needed then write index no of col in list\n",
        "d[[0,1]]\n",
        "z[[0,3],1]\n",
        "\n",
        "p = np.array([[1,9,7],[3,2,8],[4,5,6],[2,9,0]])\n",
        "p"
      ],
      "execution_count": 36,
      "outputs": [
        {
          "output_type": "execute_result",
          "data": {
            "text/plain": [
              "array([[1, 9, 7],\n",
              "       [3, 2, 8],\n",
              "       [4, 5, 6],\n",
              "       [2, 9, 0]])"
            ]
          },
          "metadata": {
            "tags": []
          },
          "execution_count": 36
        }
      ]
    },
    {
      "cell_type": "code",
      "metadata": {
        "id": "-t7WZbItIIiu",
        "colab_type": "code",
        "colab": {
          "base_uri": "https://localhost:8080/",
          "height": 68
        },
        "outputId": "581ce24c-c29a-4f87-faa5-30a288739018"
      },
      "source": [
        "p[1:,0]\n",
        "p[1:,[0,2]]"
      ],
      "execution_count": 47,
      "outputs": [
        {
          "output_type": "execute_result",
          "data": {
            "text/plain": [
              "array([[3, 8],\n",
              "       [4, 6],\n",
              "       [2, 0]])"
            ]
          },
          "metadata": {
            "tags": []
          },
          "execution_count": 47
        }
      ]
    },
    {
      "cell_type": "code",
      "metadata": {
        "id": "kiQ1p0pXL-ty",
        "colab_type": "code",
        "colab": {}
      },
      "source": [
        "''' Task : \n",
        "Rows and col from user \n",
        "16 32 \n",
        "4x4  8x4 or .... what all combination possible 2x2 4x4 print them \n",
        "\n",
        "2 === Generate 3x2 and 2x5 2d array with random elements and save this data into two separate data\n",
        "Read data from file and make 3x2 into 2x3\n",
        "\n",
        "slashlinuxcode.blogspot.com --numpy deep dive'''\n",
        "ty = np.zeros((3,6))\n",
        "ty \n",
        "tyu = np.ones((3,4))\n",
        "tyu\n",
        "tyui = np.full((4,5),9)\n",
        "tyui\n",
        "for i in dir(np):\n",
        "  if 'zer' in i:\n",
        "    print(i)\n",
        "    \n",
        "[i  for i in dir(np)  if 'zer' in i]\n"
      ],
      "execution_count": 0,
      "outputs": []
    },
    {
      "cell_type": "code",
      "metadata": {
        "id": "vqiS92PWPyKf",
        "colab_type": "code",
        "colab": {}
      },
      "source": [
        ""
      ],
      "execution_count": 0,
      "outputs": []
    }
  ]
}