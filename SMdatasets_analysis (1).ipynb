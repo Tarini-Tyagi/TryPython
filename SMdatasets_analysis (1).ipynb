{
 "cells": [
  {
   "cell_type": "code",
   "execution_count": 0,
   "metadata": {
    "colab": {},
    "colab_type": "code",
    "id": "nYt0Q86ZcN3p"
   },
   "outputs": [],
   "source": []
  },
  {
   "cell_type": "markdown",
   "metadata": {
    "colab_type": "text",
    "id": "TCG3BzRQfRjT"
   },
   "source": []
  },
  {
   "cell_type": "markdown",
   "metadata": {
    "colab_type": "text",
    "id": "o42EiBpVcYfV"
   },
   "source": [
    "Supervised ML is divided into:\n",
    "1)Classification\n",
    "2)Regression\n",
    "\n",
    "Model:\n",
    "well organised data :\n",
    "train machine with data :\n",
    "in state which it has learnd :\n",
    "pose a unteached question\n",
    "\n",
    "\n"
   ]
  },
  {
   "cell_type": "code",
   "execution_count": 0,
   "metadata": {
    "colab": {},
    "colab_type": "code",
    "id": "MMZCbBvWe7Bm"
   },
   "outputs": [],
   "source": []
  },
  {
   "cell_type": "markdown",
   "metadata": {
    "colab_type": "text",
    "id": "NNjJ1XwZftPB"
   },
   "source": [
    "Decision tree remembers the ans of a problem\n",
    "\n",
    "Decision tree is a classifier and the algorithm working in background are ID3 and CART\n",
    "\n",
    "graphviz == Graph made by decision tree can be seen \n",
    "\n",
    "Real Data :\n",
    "\n",
    "1 - Cancer Prediction\n",
    "2 - House Price Prediction\n",
    "3 - Flowers\n",
    "4 - Numbers Prediction"
   ]
  },
  {
   "cell_type": "code",
   "execution_count": 0,
   "metadata": {
    "colab": {},
    "colab_type": "code",
    "id": "5i1Zke-LjxM5"
   },
   "outputs": [],
   "source": [
    "#from sklearn import datasets\n",
    "import time\n",
    "from sklearn.datasets import load_iris     # only loading iris datasets"
   ]
  },
  {
   "cell_type": "code",
   "execution_count": 0,
   "metadata": {
    "colab": {
     "base_uri": "https://localhost:8080/",
     "height": 238
    },
    "colab_type": "code",
    "id": "uzMtMCGuhZDY",
    "outputId": "8cd6d8ba-92cb-484e-9b1a-157c87fb3a5a"
   },
   "outputs": [
    {
     "data": {
      "text/plain": [
       "['__loader__',\n",
       " 'load_boston',\n",
       " 'load_breast_cancer',\n",
       " 'load_diabetes',\n",
       " 'load_digits',\n",
       " 'load_files',\n",
       " 'load_iris',\n",
       " 'load_linnerud',\n",
       " 'load_sample_image',\n",
       " 'load_sample_images',\n",
       " 'load_svmlight_file',\n",
       " 'load_svmlight_files',\n",
       " 'load_wine']"
      ]
     },
     "execution_count": 3,
     "metadata": {
      "tags": []
     },
     "output_type": "execute_result"
    }
   ],
   "source": [
    "\n",
    "# showing datasets\n",
    "'''\n",
    "for i in dir(datasets):\n",
    "  print(i)\n",
    "  time.sleep(2)\n",
    "'''\n",
    "\n",
    "# [i for i in dir(datasets) if 'load' in i] # offline datasets provided by SCI-kit learn\n",
    "\n",
    "\n",
    "# Google tulip project\n",
    "# IRIS flower category\n",
    "# 1- Setosa\n",
    "# 2- versicolor\n",
    "# 3- virginica\n",
    "\n",
    "\n",
    "# Body tell after 3 days fever can be there -- human DNA\n",
    "\n",
    "\n",
    "\n"
   ]
  },
  {
   "cell_type": "code",
   "execution_count": 0,
   "metadata": {
    "colab": {
     "base_uri": "https://localhost:8080/",
     "height": 34
    },
    "colab_type": "code",
    "id": "zXmVjinckNnm",
    "outputId": "c1f4a80b-c4b4-41e7-ba39-61ada61fda26"
   },
   "outputs": [
    {
     "data": {
      "text/plain": [
       "(150,)"
      ]
     },
     "execution_count": 17,
     "metadata": {
      "tags": []
     },
     "output_type": "execute_result"
    }
   ],
   "source": [
    "iris = load_iris()\n",
    "\n",
    "dir(iris)   # exploring variables\n",
    "\n",
    "#iris.DESCR   # Description about the datasets\n",
    "iris.feature_names    # feature of flowers\n",
    "iris.target_names     # label of flowers or answers\n",
    "\n",
    "# actual data with attributes\n",
    "features = iris.data\n",
    "# features.shape\n",
    "type(features)\n",
    "\n",
    "# now time for target/label data that will be same as no. of features data\n",
    "# no. of row or features must be equal to no. of answer or label  [No. of columns are not related to no. of answers// On increasing attribute ans do not change]\n",
    "label=iris.target  # 0 for Setosa 1- versicolor 2- virginica\n",
    "label.shape\n",
    "\n"
   ]
  },
  {
   "cell_type": "code",
   "execution_count": 0,
   "metadata": {
    "colab": {
     "base_uri": "https://localhost:8080/",
     "height": 300
    },
    "colab_type": "code",
    "id": "mQloci83pq2s",
    "outputId": "bcc5a962-26f4-4e30-c6a1-9479ce5239cc"
   },
   "outputs": [
    {
     "data": {
      "text/plain": [
       "<matplotlib.legend.Legend at 0x7f08164c0c18>"
      ]
     },
     "execution_count": 25,
     "metadata": {
      "tags": []
     },
     "output_type": "execute_result"
    },
    {
     "data": {
      "image/png": "[encoded data removed]",
      "text/plain": [
       "<Figure size 432x288 with 1 Axes>"
      ]
     },
     "metadata": {
      "tags": []
     },
     "output_type": "display_data"
    }
   ],
   "source": [
    "import matplotlib.pyplot as plt\n",
    "\n",
    "sepalLength=features[0:,0]\n",
    "sepalWidth=features[0:,1]\n",
    "plt.xlabel(\"Sepal Length\")\n",
    "plt.ylabel(\"Sepal Width\")\n",
    "plt .scatter(sepalLength,sepalWidth, label=\"sepal_data\",marker='*')\n",
    "plt.scatter(features[0:,2],features[0:,3], label=\"petal_data\",marker='x')   # orange= petalLength and petalWidth\n",
    "plt.legend()"
   ]
  },
  {
   "cell_type": "code",
   "execution_count": 0,
   "metadata": {
    "colab": {},
    "colab_type": "code",
    "id": "lG987CZkszuM"
   },
   "outputs": [],
   "source": []
  },
  {
   "cell_type": "markdown",
   "metadata": {
    "colab_type": "text",
    "id": "OmVxQJx1vPxf"
   },
   "source": [
    "No. of colums can be very large and can't be remembered in exact order\n",
    "So input can't be given manualy\n",
    "so we'll make 90% data as test data and use the rest 10% data for giving input [i.e. the test data]\n",
    "\n",
    " data is unique in Ml , data of rows and columns is not kept same so can be divided as train and test data\n",
    " Method is known as data separation\n",
    " \n",
    " Library by SCI-kit learn for data separation into 2 category:\n",
    " 1) training data\n",
    " 2) testing data\n",
    " \n",
    " \n",
    " "
   ]
  },
  {
   "cell_type": "code",
   "execution_count": 0,
   "metadata": {
    "colab": {
     "base_uri": "https://localhost:8080/",
     "height": 51
    },
    "colab_type": "code",
    "id": "ZgWfo3pqwjQM",
    "outputId": "057628e6-05a6-4a75-fe1c-57fe5b81d4f5"
   },
   "outputs": [
    {
     "name": "stdout",
     "output_type": "stream",
     "text": [
      "[0 1 2 0 2 2 2 0 0 2 1 2 2 1 2]\n",
      "[0 1 2 0 2 2 2 0 0 2 1 1 2 1 2]\n"
     ]
    }
   ],
   "source": [
    "from sklearn.model_selection import train_test_split\n",
    "from sklearn.tree import DecisionTreeClassifier\n",
    "\n",
    "train_data,test_data,label_train,label_test=train_test_split(features,label,test_size=0.1)\n",
    "# we have to give both ques and ans to model, test size=0.1 means separate 10% data i.e don't use that for training [random_state=0]\n",
    "'''1- actualData 90%\n",
    "   2- actual 10%\n",
    "   3- ans 90%\n",
    "   4- ans 10% '''\n",
    "\n",
    "# calling decision tree classifier\n",
    "\n",
    "clf=DecisionTreeClassifier()\n",
    "trained=clf.fit(train_data,label_train)\n",
    "predicted_flowers = trained.predict(test_data)\n",
    "print(predicted_flowers) #predicted ans\n",
    "print(label_test)   #actual ans\n",
    "\n"
   ]
  },
  {
   "cell_type": "code",
   "execution_count": 0,
   "metadata": {
    "colab": {
     "base_uri": "https://localhost:8080/",
     "height": 34
    },
    "colab_type": "code",
    "id": "vDvB9Vs6wLhs",
    "outputId": "8b20749c-dff6-45ad-e839-0147285507af"
   },
   "outputs": [
    {
     "data": {
      "text/plain": [
       "0.9333333333333333"
      ]
     },
     "execution_count": 36,
     "metadata": {
      "tags": []
     },
     "output_type": "execute_result"
    }
   ],
   "source": [
    "# to find acurracy score\n",
    "from sklearn.metrics import accuracy_score\n",
    "accuracy_score(label_test,predicted_flowers)   # range of accuracy score 0-1"
   ]
  },
  {
   "cell_type": "markdown",
   "metadata": {
    "colab_type": "text",
    "id": "CbXxm_eE2Z2u"
   },
   "source": [
    "The ans which are predicted wrong by the system\n",
    "we teach machine that is we retrain it in deep learning\n",
    "No method of getting the ans rigth after wrong prediction in ML\n",
    "\n",
    "\n",
    "Cancer data for homework\n",
    "Diebeetes\n",
    "\n",
    "Data Processing\n",
    "Machine Learning\n",
    "branches in ML  ::\n",
    "\n",
    "\n",
    "$ git branch\n",
    "\n",
    "\n",
    "*master\n",
    "\n",
    "\n",
    "$ git branch -a\n",
    "\n",
    "$git log\n",
    "\n",
    "\n",
    "$git reset -- hard  384738947983748937483974893749738947\n",
    "\n",
    "\n",
    "$git checkout -b superVisedML\n",
    "\n",
    "\n",
    "$git branch\n",
    "\n",
    "superVisedM\n",
    "...............\n",
    "\n",
    "$git add .\n",
    "\n",
    "\n",
    "$git push origin superVisedML \n",
    "\n"
   ]
  },
  {
   "cell_type": "code",
   "execution_count": 0,
   "metadata": {
    "colab": {},
    "colab_type": "code",
    "id": "wq3_HaDc3JWh"
   },
   "outputs": [],
   "source": []
  },
  {
   "cell_type": "code",
   "execution_count": 0,
   "metadata": {
    "colab": {},
    "colab_type": "code",
    "id": "GCGMUEOu1g9b"
   },
   "outputs": [],
   "source": []
  }
 ],
 "metadata": {
  "colab": {
   "collapsed_sections": [],
   "name": "SMdatasets_analysis.ipynb",
   "provenance": [],
   "version": "0.3.2"
  },
  "kernelspec": {
   "display_name": "Python 3",
   "language": "python",
   "name": "python3"
  },
  "language_info": {
   "codemirror_mode": {
    "name": "ipython",
    "version": 3
   },
   "file_extension": ".py",
   "mimetype": "text/x-python",
   "name": "python",
   "nbconvert_exporter": "python",
   "pygments_lexer": "ipython3",
   "version": "3.6.5"
  }
 },
 "nbformat": 4,
 "nbformat_minor": 1
}
