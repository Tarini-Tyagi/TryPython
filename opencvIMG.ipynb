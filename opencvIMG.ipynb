{
 "cells": [
  {
   "cell_type": "code",
   "execution_count": 1,
   "metadata": {},
   "outputs": [
    {
     "name": "stdout",
     "output_type": "stream",
     "text": [
      "Requirement already satisfied: opencv-contrib-python in g:\\anaconda\\lib\\site-packages (4.1.0.25)\n",
      "Requirement already satisfied: numpy>=1.11.3 in g:\\anaconda\\lib\\site-packages (from opencv-contrib-python) (1.14.3)\n"
     ]
    }
   ],
   "source": [
    "!pip3 install opencv-contrib-python"
   ]
  },
  {
   "cell_type": "code",
   "execution_count": 3,
   "metadata": {},
   "outputs": [],
   "source": [
    " import cv2"
   ]
  },
  {
   "cell_type": "code",
   "execution_count": 4,
   "metadata": {},
   "outputs": [
    {
     "data": {
      "text/plain": [
       "'4.1.0'"
      ]
     },
     "execution_count": 4,
     "metadata": {},
     "output_type": "execute_result"
    }
   ],
   "source": [
    "cv2.__version__"
   ]
  },
  {
   "cell_type": "code",
   "execution_count": 5,
   "metadata": {},
   "outputs": [
    {
     "data": {
      "text/plain": [
       "(3000, 2091, 3)"
      ]
     },
     "execution_count": 5,
     "metadata": {},
     "output_type": "execute_result"
    }
   ],
   "source": [
    "img=cv2.imread('dog.jpg')\n",
    "# print shape\n",
    "img.shape   # (height,width,colorChannel) "
   ]
  },
  {
   "cell_type": "code",
   "execution_count": 5,
   "metadata": {},
   "outputs": [
    {
     "data": {
      "text/plain": [
       "-1"
      ]
     },
     "execution_count": 5,
     "metadata": {},
     "output_type": "execute_result"
    }
   ],
   "source": [
    "cv2.imshow('dog',img)     # Window will be opened\n",
    "\n",
    "# wait for window to close\n",
    "#cv2.waitKey(30)  # hold for 30 mili or micro seond\n",
    "cv2.waitKey(0)   # Hold infinitely\n"
   ]
  },
  {
   "cell_type": "code",
   "execution_count": 6,
   "metadata": {},
   "outputs": [],
   "source": [
    "cv2.imshow('dog',img[0:130,0:150])"
   ]
  },
  {
   "cell_type": "code",
   "execution_count": 8,
   "metadata": {},
   "outputs": [],
   "source": [
    "# split into BGR\n",
    "x,y,z=cv2.split(img)\n",
    "#cv2.imshow('dog1',x)\n",
    "cv2.imshow('dog2',y)\n",
    "cv2.imshow('dog3',z)\n",
    "\n",
    "\n",
    "# My image\n",
    "import numpy as np\n",
    "myimg=np.zeros((512,512))\n",
    "cv2.imshow('dog4',myimg)\n"
   ]
  },
  {
   "cell_type": "code",
   "execution_count": 7,
   "metadata": {},
   "outputs": [
    {
     "data": {
      "text/plain": [
       "array([[[  0,   0, 255],\n",
       "        [  0,   0, 255],\n",
       "        [  0,   0, 255],\n",
       "        ...,\n",
       "        [ 15, 212, 180],\n",
       "        [ 15, 212, 180],\n",
       "        [ 15, 212, 180]],\n",
       "\n",
       "       [[  0,   0, 255],\n",
       "        [  0,   0, 255],\n",
       "        [  0,   0, 255],\n",
       "        ...,\n",
       "        [ 17, 214, 182],\n",
       "        [ 17, 214, 182],\n",
       "        [ 17, 214, 182]],\n",
       "\n",
       "       [[  0,   0, 255],\n",
       "        [  0,   0, 255],\n",
       "        [  0,   0, 255],\n",
       "        ...,\n",
       "        [ 18, 215, 183],\n",
       "        [ 18, 215, 183],\n",
       "        [ 18, 215, 183]],\n",
       "\n",
       "       ...,\n",
       "\n",
       "       [[ 30, 145, 135],\n",
       "        [ 31, 146, 136],\n",
       "        [ 29, 145, 132],\n",
       "        ...,\n",
       "        [108, 190, 185],\n",
       "        [117, 194, 190],\n",
       "        [123, 196, 194]],\n",
       "\n",
       "       [[ 35, 150, 140],\n",
       "        [ 35, 150, 140],\n",
       "        [ 32, 148, 135],\n",
       "        ...,\n",
       "        [114, 196, 191],\n",
       "        [123, 199, 195],\n",
       "        [129, 199, 198]],\n",
       "\n",
       "       [[ 38, 153, 143],\n",
       "        [ 38, 153, 143],\n",
       "        [ 34, 150, 137],\n",
       "        ...,\n",
       "        [117, 197, 192],\n",
       "        [124, 200, 196],\n",
       "        [131, 199, 198]]], dtype=uint8)"
      ]
     },
     "execution_count": 7,
     "metadata": {},
     "output_type": "execute_result"
    }
   ],
   "source": [
    "# to draw a line in image\n",
    "cv2.line(img,(0,0),(200,230),(0,0,255),3)\n",
    "cv2.rectangle(img,(50,50),(100,110),(255,0,0),2)\n",
    "cv2.rectangle(img,(50,50),(100,110),(255,0,0),-1)          #----- to fill the rectangle with color\n"
   ]
  },
  {
   "cell_type": "code",
   "execution_count": null,
   "metadata": {},
   "outputs": [],
   "source": []
  }
 ],
 "metadata": {
  "kernelspec": {
   "display_name": "Python 3",
   "language": "python",
   "name": "python3"
  },
  "language_info": {
   "codemirror_mode": {
    "name": "ipython",
    "version": 3
   },
   "file_extension": ".py",
   "mimetype": "text/x-python",
   "name": "python",
   "nbconvert_exporter": "python",
   "pygments_lexer": "ipython3",
   "version": "3.6.5"
  }
 },
 "nbformat": 4,
 "nbformat_minor": 2
}
