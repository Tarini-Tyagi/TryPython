{
 "cells": [
  {
   "cell_type": "code",
   "execution_count": 4,
   "metadata": {},
   "outputs": [
    {
     "name": "stdout",
     "output_type": "stream",
     "text": [
      "['tyagitbkn@gmail.com', 'abc@sdf.com', 'namika@yahoo.com', 'sanha@redifmai']\n",
      "tyagitbkn@gmail.com\n",
      "Email is a valid email address.\n"
     ]
    }
   ],
   "source": [
    "# define an empty list\n",
    "emlist = []\n",
    "\n",
    "# open file and read the content in a list\n",
    "with open('email.txt', 'r') as filehandle:  \n",
    "    for x in filehandle:\n",
    "        # remove linebreak which is the last character of the string\n",
    "        currentPlace = x[:-1]\n",
    "\n",
    "        # add item to the list\n",
    "        emlist.append(currentPlace)\n",
    "print(emlist)\n",
    "\n",
    "import re\n",
    "\n",
    "\n",
    "class Validator(object):\n",
    "\n",
    "    def __init__(self, email):\n",
    "        self.email = email\n",
    "\n",
    "    def check_for_symbol(self):\n",
    "        if re.search(\"[@.]\", self.email) is None:\n",
    "            return False\n",
    "        else:\n",
    "            return True\n",
    "\n",
    "    def check_length(self):\n",
    "        if len(self.email) >= 12:\n",
    "            return True\n",
    "        else:\n",
    "            return False\n",
    "\n",
    "\n",
    "def email_to_verify():\n",
    "    for i in emlist:\n",
    "        print(i)\n",
    "        return i\n",
    "\n",
    "\n",
    "def check_email(email):\n",
    "    validator = Validator(email)\n",
    "    symbol = validator.check_for_symbol()\n",
    "    if symbol is False:\n",
    "        print(\"Your email address is not valid. Failed symbols..\")\n",
    "\n",
    "    length = validator.check_length()\n",
    "    if length is False:\n",
    "        print(\"Your email is not valid. Failed length\")\n",
    "\n",
    "    if length and symbol is True:\n",
    "        print(\"Email is a valid email address.\")\n",
    "\n",
    "\n",
    "if __name__ == '__main__':\n",
    "    e = email_to_verify()\n",
    "    check_email(e)"
   ]
  },
  {
   "cell_type": "code",
   "execution_count": null,
   "metadata": {},
   "outputs": [],
   "source": []
  },
  {
   "cell_type": "code",
   "execution_count": null,
   "metadata": {},
   "outputs": [],
   "source": []
  }
 ],
 "metadata": {
  "kernelspec": {
   "display_name": "Python 3",
   "language": "python",
   "name": "python3"
  },
  "language_info": {
   "codemirror_mode": {
    "name": "ipython",
    "version": 3
   },
   "file_extension": ".py",
   "mimetype": "text/x-python",
   "name": "python",
   "nbconvert_exporter": "python",
   "pygments_lexer": "ipython3",
   "version": "3.6.5"
  }
 },
 "nbformat": 4,
 "nbformat_minor": 2
}
